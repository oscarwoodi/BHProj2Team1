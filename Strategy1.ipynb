{
 "cells": [
  {
   "cell_type": "code",
   "execution_count": 669,
   "id": "3a998c37",
   "metadata": {},
   "outputs": [],
   "source": [
    "# imports \n",
    "import pandas as pd\n",
    "import numpy as np \n",
    "import matplotlib.pyplot as plt\n",
    "from mpl_toolkits import mplot3d\n",
    "from datetime import datetime\n",
    "from openpyxl import load_workbook\n"
   ]
  },
  {
   "cell_type": "code",
   "execution_count": 670,
   "id": "fef488ea",
   "metadata": {},
   "outputs": [],
   "source": [
    "# get old price data\n",
    "def importer():\n",
    "    df = pd.read_excel('Time Series Data.xlsx', index_col = 'Day')\n",
    "    df = 100*df['Series 28'][0::]/df['Series 28'].iloc[-1]\n",
    "\n",
    "    # get new price data\n",
    "    test = pd.read_excel('Test Bed V2.xlsm', usecols='AC', header=1)\n",
    "    test = test['Series 28']\n",
    "    \n",
    "    return df, test\n"
   ]
  },
  {
   "cell_type": "code",
   "execution_count": 671,
   "id": "1ea819ea",
   "metadata": {},
   "outputs": [],
   "source": [
    "def tradyboi(df, data, window_mean=15, upper_bound=0.1, lower_bound=0, cap_bound=0.5,\\\n",
    "             trade_size_sell=100000, trade_size_buy=50000): \n",
    "\n",
    "    # data - list with price data\n",
    "    # window_mean - integer used in mean window\n",
    "    # upper_bound - float used to find sell criteria\n",
    "    # lower_bound - float used to find buy criteria\n",
    "    # cap_bound - float used to find cap of buying \n",
    "    # trade_size_sell - integer for incremental amount to sell\n",
    "    # trade_size_buy - integer for incremental amount to buy\n",
    "    \n",
    "    # constraints\n",
    "    max_cap = 500000\n",
    "    position = 0\n",
    "    \n",
    "    # create full SMA\n",
    "    SMA = (df[-window_mean+2::]).append(data).rolling(window=window_mean).mean()[window_mean-2::]\n",
    "    cap = (df[-200+2::]).append(data).rolling(window=200).mean()[200-2::] + cap_bound*df.std()\n",
    "    upper_bounds = SMA + upper_bound*df.std()\n",
    "    lower_bounds = SMA - lower_bound*df.std()\n",
    "    \n",
    "    # generating signals\n",
    "    sigPriceBuy = []\n",
    "    sigPriceSell = []\n",
    "    run_pos = []\n",
    "    trade = []\n",
    "      \n",
    "    for i in range(int(data.index[0]), int(data.index[-1]+1)):\n",
    "        # Touch of lower bound = close sell and build long position until max trade reached\n",
    "        if (data[i]<lower_bounds[i]) and (position<max_cap) and (data[i]<cap[i]):\n",
    "            sigPriceBuy.append(data[i])\n",
    "            sigPriceSell.append(np.nan)\n",
    "            run_pos.append(position)\n",
    "            position += trade_size_buy\n",
    "            trade.append(trade_size_buy)\n",
    "            \n",
    "        elif (data[i]>upper_bounds[i]) and (position>0) and (data[i]-data[i-1]>0):\n",
    "            sigPriceBuy.append(np.nan)\n",
    "            sigPriceSell.append(data[i])\n",
    "            run_pos.append(position)\n",
    "            if position >= trade_size_sell:\n",
    "                position -= trade_size_sell\n",
    "                trade.append(-trade_size_sell)\n",
    "            else:\n",
    "                position -= trade_size_buy\n",
    "                trade.append(-trade_size_buy)\n",
    "\n",
    "        else: \n",
    "            run_pos.append(position)\n",
    "            sigPriceBuy.append(np.nan)\n",
    "            sigPriceSell.append(np.nan)\n",
    "            trade.append(np.nan)\n",
    "\n",
    "    return (sigPriceBuy, sigPriceSell, run_pos, trade)\n"
   ]
  },
  {
   "cell_type": "code",
   "execution_count": 672,
   "id": "9805c561",
   "metadata": {
    "scrolled": false
   },
   "outputs": [],
   "source": [
    "# Placing Trade\n",
    "def exceler(bsdata):\n",
    "    \n",
    "    # format outputs\n",
    "    trades = pd.DataFrame(test.index)\n",
    "    trades['trades'] = buy_sell_data[3]\n",
    "\n",
    "    # write to excel\n",
    "    #load excel file\n",
    "    workbook = load_workbook(filename=\"Test Bed V2.xlsm\", read_only=False, keep_vba=True)\n",
    " \n",
    "    #open workbook\n",
    "    sheet = workbook.active\n",
    " \n",
    "    sheet['AH1'] = 28\n",
    "    sheet['AO1'] = 0\n",
    "    sheet['AV1'] = 0\n",
    "\n",
    "    #modify the desired cell\n",
    "    for i in np.arange(3,trades.reset_index().index[-1]+4):\n",
    "        edit1 = 'AG'+str(int(i))\n",
    "        sheet[edit1] = trades.iloc[i-3, 1]\n",
    " \n",
    "    # save the file\n",
    "    workbook.save(filename=\"Test Bed V2.xlsm\")\n"
   ]
  },
  {
   "cell_type": "code",
   "execution_count": 674,
   "id": "4b73c817",
   "metadata": {},
   "outputs": [
    {
     "name": "stderr",
     "output_type": "stream",
     "text": [
      "/var/folders/wl/wvdbqtqs2yx6dmcfym05k19m0000gn/T/ipykernel_95697/2904389506.py:17: FutureWarning: The series.append method is deprecated and will be removed from pandas in a future version. Use pandas.concat instead.\n",
      "  SMA = (df[-window_mean+2::]).append(data).rolling(window=window_mean).mean()[window_mean-2::]\n",
      "/var/folders/wl/wvdbqtqs2yx6dmcfym05k19m0000gn/T/ipykernel_95697/2904389506.py:18: FutureWarning: The series.append method is deprecated and will be removed from pandas in a future version. Use pandas.concat instead.\n",
      "  cap = (df[-200+2::]).append(data).rolling(window=200).mean()[200-2::] + cap_bound*df.std()\n"
     ]
    }
   ],
   "source": [
    "if __name__ == \"__main__\": \n",
    "    df, test = importer()\n",
    "    buy_sell_data = tradyboi(df, test)\n",
    "    exceler(buy_sell_data)"
   ]
  },
  {
   "cell_type": "code",
   "execution_count": null,
   "id": "c63e58da",
   "metadata": {},
   "outputs": [],
   "source": []
  }
 ],
 "metadata": {
  "kernelspec": {
   "display_name": "Python 3 (ipykernel)",
   "language": "python",
   "name": "python3"
  },
  "language_info": {
   "codemirror_mode": {
    "name": "ipython",
    "version": 3
   },
   "file_extension": ".py",
   "mimetype": "text/x-python",
   "name": "python",
   "nbconvert_exporter": "python",
   "pygments_lexer": "ipython3",
   "version": "3.9.12"
  }
 },
 "nbformat": 4,
 "nbformat_minor": 5
}
