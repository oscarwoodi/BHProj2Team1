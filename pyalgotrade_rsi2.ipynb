{
 "cells": [
  {
   "cell_type": "code",
   "execution_count": 1,
   "id": "3fe82c32",
   "metadata": {
    "ExecuteTime": {
     "end_time": "2022-08-24T11:14:31.394971Z",
     "start_time": "2022-08-24T11:14:30.523762Z"
    }
   },
   "outputs": [
    {
     "name": "stdout",
     "output_type": "stream",
     "text": [
      "Loading bars from DIA-2009-yahoofinance.csv\n"
     ]
    },
    {
     "ename": "FileNotFoundError",
     "evalue": "[Errno 2] No such file or directory: 'DIA-2009-yahoofinance.csv'",
     "output_type": "error",
     "traceback": [
      "\u001b[0;31m---------------------------------------------------------------------------\u001b[0m",
      "\u001b[0;31mFileNotFoundError\u001b[0m                         Traceback (most recent call last)",
      "\u001b[0;32m/var/folders/p2/6ddwj2812811pbqjm8t6brv80000gn/T/ipykernel_43827/2997195283.py\u001b[0m in \u001b[0;36m<module>\u001b[0;34m\u001b[0m\n\u001b[1;32m     42\u001b[0m \u001b[0;34m\u001b[0m\u001b[0m\n\u001b[1;32m     43\u001b[0m \u001b[0;32mif\u001b[0m \u001b[0m__name__\u001b[0m \u001b[0;34m==\u001b[0m \u001b[0;34m\"__main__\"\u001b[0m\u001b[0;34m:\u001b[0m\u001b[0;34m\u001b[0m\u001b[0;34m\u001b[0m\u001b[0m\n\u001b[0;32m---> 44\u001b[0;31m     \u001b[0mmain\u001b[0m\u001b[0;34m(\u001b[0m\u001b[0;32mTrue\u001b[0m\u001b[0;34m)\u001b[0m\u001b[0;34m\u001b[0m\u001b[0;34m\u001b[0m\u001b[0m\n\u001b[0m",
      "\u001b[0;32m/var/folders/p2/6ddwj2812811pbqjm8t6brv80000gn/T/ipykernel_43827/2997195283.py\u001b[0m in \u001b[0;36mmain\u001b[0;34m(plot)\u001b[0m\n\u001b[1;32m     20\u001b[0m         \u001b[0mfileName\u001b[0m \u001b[0;34m=\u001b[0m \u001b[0;34m\"%s-%d-yahoofinance.csv\"\u001b[0m \u001b[0;34m%\u001b[0m \u001b[0;34m(\u001b[0m\u001b[0minstrument\u001b[0m\u001b[0;34m,\u001b[0m \u001b[0myear\u001b[0m\u001b[0;34m)\u001b[0m\u001b[0;34m\u001b[0m\u001b[0;34m\u001b[0m\u001b[0m\n\u001b[1;32m     21\u001b[0m         \u001b[0mprint\u001b[0m\u001b[0;34m(\u001b[0m\u001b[0;34m\"Loading bars from %s\"\u001b[0m \u001b[0;34m%\u001b[0m \u001b[0mfileName\u001b[0m\u001b[0;34m)\u001b[0m\u001b[0;34m\u001b[0m\u001b[0;34m\u001b[0m\u001b[0m\n\u001b[0;32m---> 22\u001b[0;31m         \u001b[0mfeed\u001b[0m\u001b[0;34m.\u001b[0m\u001b[0maddBarsFromCSV\u001b[0m\u001b[0;34m(\u001b[0m\u001b[0minstrument\u001b[0m\u001b[0;34m,\u001b[0m \u001b[0mfileName\u001b[0m\u001b[0;34m)\u001b[0m\u001b[0;34m\u001b[0m\u001b[0;34m\u001b[0m\u001b[0m\n\u001b[0m\u001b[1;32m     23\u001b[0m \u001b[0;34m\u001b[0m\u001b[0m\n\u001b[1;32m     24\u001b[0m     \u001b[0mstrat\u001b[0m \u001b[0;34m=\u001b[0m \u001b[0mrsi2\u001b[0m\u001b[0;34m.\u001b[0m\u001b[0mRSI2\u001b[0m\u001b[0;34m(\u001b[0m\u001b[0mfeed\u001b[0m\u001b[0;34m,\u001b[0m \u001b[0minstrument\u001b[0m\u001b[0;34m,\u001b[0m \u001b[0mentrySMA\u001b[0m\u001b[0;34m,\u001b[0m \u001b[0mexitSMA\u001b[0m\u001b[0;34m,\u001b[0m \u001b[0mrsiPeriod\u001b[0m\u001b[0;34m,\u001b[0m \u001b[0moverBoughtThreshold\u001b[0m\u001b[0;34m,\u001b[0m \u001b[0moverSoldThreshold\u001b[0m\u001b[0;34m)\u001b[0m\u001b[0;34m\u001b[0m\u001b[0;34m\u001b[0m\u001b[0m\n",
      "\u001b[0;32m~/.pyenv/versions/3.8.6/envs/mev-project/lib/python3.8/site-packages/pyalgotrade/barfeed/yahoofeed.py\u001b[0m in \u001b[0;36maddBarsFromCSV\u001b[0;34m(self, instrument, path, timezone)\u001b[0m\n\u001b[1;32m    150\u001b[0m             \u001b[0mself\u001b[0m\u001b[0;34m.\u001b[0m\u001b[0mgetDailyBarTime\u001b[0m\u001b[0;34m(\u001b[0m\u001b[0;34m)\u001b[0m\u001b[0;34m,\u001b[0m \u001b[0mself\u001b[0m\u001b[0;34m.\u001b[0m\u001b[0mgetFrequency\u001b[0m\u001b[0;34m(\u001b[0m\u001b[0;34m)\u001b[0m\u001b[0;34m,\u001b[0m \u001b[0mtimezone\u001b[0m\u001b[0;34m,\u001b[0m \u001b[0mself\u001b[0m\u001b[0;34m.\u001b[0m\u001b[0m__sanitizeBars\u001b[0m\u001b[0;34m,\u001b[0m \u001b[0mself\u001b[0m\u001b[0;34m.\u001b[0m\u001b[0m__barClass\u001b[0m\u001b[0;34m\u001b[0m\u001b[0;34m\u001b[0m\u001b[0m\n\u001b[1;32m    151\u001b[0m         )\n\u001b[0;32m--> 152\u001b[0;31m         \u001b[0msuper\u001b[0m\u001b[0;34m(\u001b[0m\u001b[0mFeed\u001b[0m\u001b[0;34m,\u001b[0m \u001b[0mself\u001b[0m\u001b[0;34m)\u001b[0m\u001b[0;34m.\u001b[0m\u001b[0maddBarsFromCSV\u001b[0m\u001b[0;34m(\u001b[0m\u001b[0minstrument\u001b[0m\u001b[0;34m,\u001b[0m \u001b[0mpath\u001b[0m\u001b[0;34m,\u001b[0m \u001b[0mrowParser\u001b[0m\u001b[0;34m)\u001b[0m\u001b[0;34m\u001b[0m\u001b[0;34m\u001b[0m\u001b[0m\n\u001b[0m",
      "\u001b[0;32m~/.pyenv/versions/3.8.6/envs/mev-project/lib/python3.8/site-packages/pyalgotrade/barfeed/csvfeed.py\u001b[0m in \u001b[0;36maddBarsFromCSV\u001b[0;34m(self, instrument, path, rowParser, skipMalformedBars)\u001b[0m\n\u001b[1;32m    131\u001b[0m         \u001b[0;31m# Load the csv file\u001b[0m\u001b[0;34m\u001b[0m\u001b[0;34m\u001b[0m\u001b[0;34m\u001b[0m\u001b[0m\n\u001b[1;32m    132\u001b[0m         \u001b[0mloadedBars\u001b[0m \u001b[0;34m=\u001b[0m \u001b[0;34m[\u001b[0m\u001b[0;34m]\u001b[0m\u001b[0;34m\u001b[0m\u001b[0;34m\u001b[0m\u001b[0m\n\u001b[0;32m--> 133\u001b[0;31m         \u001b[0mreader\u001b[0m \u001b[0;34m=\u001b[0m \u001b[0mcsvutils\u001b[0m\u001b[0;34m.\u001b[0m\u001b[0mFastDictReader\u001b[0m\u001b[0;34m(\u001b[0m\u001b[0mopen\u001b[0m\u001b[0;34m(\u001b[0m\u001b[0mpath\u001b[0m\u001b[0;34m,\u001b[0m \u001b[0;34m\"r\"\u001b[0m\u001b[0;34m)\u001b[0m\u001b[0;34m,\u001b[0m \u001b[0mfieldnames\u001b[0m\u001b[0;34m=\u001b[0m\u001b[0mrowParser\u001b[0m\u001b[0;34m.\u001b[0m\u001b[0mgetFieldNames\u001b[0m\u001b[0;34m(\u001b[0m\u001b[0;34m)\u001b[0m\u001b[0;34m,\u001b[0m \u001b[0mdelimiter\u001b[0m\u001b[0;34m=\u001b[0m\u001b[0mrowParser\u001b[0m\u001b[0;34m.\u001b[0m\u001b[0mgetDelimiter\u001b[0m\u001b[0;34m(\u001b[0m\u001b[0;34m)\u001b[0m\u001b[0;34m)\u001b[0m\u001b[0;34m\u001b[0m\u001b[0;34m\u001b[0m\u001b[0m\n\u001b[0m\u001b[1;32m    134\u001b[0m         \u001b[0;32mfor\u001b[0m \u001b[0mrow\u001b[0m \u001b[0;32min\u001b[0m \u001b[0mreader\u001b[0m\u001b[0;34m:\u001b[0m\u001b[0;34m\u001b[0m\u001b[0;34m\u001b[0m\u001b[0m\n\u001b[1;32m    135\u001b[0m             \u001b[0mbar_\u001b[0m \u001b[0;34m=\u001b[0m \u001b[0mparse_bar\u001b[0m\u001b[0;34m(\u001b[0m\u001b[0mrow\u001b[0m\u001b[0;34m)\u001b[0m\u001b[0;34m\u001b[0m\u001b[0;34m\u001b[0m\u001b[0m\n",
      "\u001b[0;31mFileNotFoundError\u001b[0m: [Errno 2] No such file or directory: 'DIA-2009-yahoofinance.csv'"
     ]
    }
   ],
   "source": [
    "from __future__ import print_function\n",
    "\n",
    "import rsi2\n",
    "from pyalgotrade import plotter\n",
    "from pyalgotrade.barfeed import yahoofeed\n",
    "from pyalgotrade.stratanalyzer import sharpe\n",
    "\n",
    "\n",
    "def main(plot):\n",
    "    instrument = \"DIA\"\n",
    "    entrySMA = 200\n",
    "    exitSMA = 5\n",
    "    rsiPeriod = 2\n",
    "    overBoughtThreshold = 90\n",
    "    overSoldThreshold = 10\n",
    "\n",
    "    # Load the bars. These files were manually downloaded from Yahoo Finance.\n",
    "    feed = yahoofeed.Feed()\n",
    "    for year in range(2009, 2013):\n",
    "        fileName = \"%s-%d-yahoofinance.csv\" % (instrument, year)\n",
    "        print(\"Loading bars from %s\" % fileName)\n",
    "        feed.addBarsFromCSV(instrument, fileName)\n",
    "\n",
    "    strat = rsi2.RSI2(feed, instrument, entrySMA, exitSMA, rsiPeriod, overBoughtThreshold, overSoldThreshold)\n",
    "    sharpeRatioAnalyzer = sharpe.SharpeRatio()\n",
    "    strat.attachAnalyzer(sharpeRatioAnalyzer)\n",
    "\n",
    "    if plot:\n",
    "        plt = plotter.StrategyPlotter(strat, True, False, True)\n",
    "        plt.getInstrumentSubplot(instrument).addDataSeries(\"Entry SMA\", strat.getEntrySMA())\n",
    "        plt.getInstrumentSubplot(instrument).addDataSeries(\"Exit SMA\", strat.getExitSMA())\n",
    "        plt.getOrCreateSubplot(\"rsi\").addDataSeries(\"RSI\", strat.getRSI())\n",
    "        plt.getOrCreateSubplot(\"rsi\").addLine(\"Overbought\", overBoughtThreshold)\n",
    "        plt.getOrCreateSubplot(\"rsi\").addLine(\"Oversold\", overSoldThreshold)\n",
    "\n",
    "    strat.run()\n",
    "    print(\"Sharpe ratio: %.2f\" % sharpeRatioAnalyzer.getSharpeRatio(0.05))\n",
    "\n",
    "    if plot:\n",
    "        plt.plot()\n",
    "\n",
    "\n",
    "if __name__ == \"__main__\":\n",
    "    main(True)"
   ]
  },
  {
   "cell_type": "code",
   "execution_count": null,
   "id": "43ed7728",
   "metadata": {},
   "outputs": [],
   "source": []
  }
 ],
 "metadata": {
  "kernelspec": {
   "display_name": "Python 3 (ipykernel)",
   "language": "python",
   "name": "python3"
  },
  "language_info": {
   "codemirror_mode": {
    "name": "ipython",
    "version": 3
   },
   "file_extension": ".py",
   "mimetype": "text/x-python",
   "name": "python",
   "nbconvert_exporter": "python",
   "pygments_lexer": "ipython3",
   "version": "3.8.6"
  },
  "toc": {
   "base_numbering": 1,
   "nav_menu": {},
   "number_sections": true,
   "sideBar": true,
   "skip_h1_title": false,
   "title_cell": "Table of Contents",
   "title_sidebar": "Contents",
   "toc_cell": false,
   "toc_position": {},
   "toc_section_display": true,
   "toc_window_display": false
  }
 },
 "nbformat": 4,
 "nbformat_minor": 5
}
