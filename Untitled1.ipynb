{
 "cells": [
  {
   "cell_type": "code",
   "execution_count": 20,
   "id": "874a29fc",
   "metadata": {
    "ExecuteTime": {
     "end_time": "2022-09-09T12:20:23.778674Z",
     "start_time": "2022-09-09T12:20:23.761116Z"
    }
   },
   "outputs": [
    {
     "data": {
      "text/plain": [
       "708"
      ]
     },
     "execution_count": 20,
     "metadata": {},
     "output_type": "execute_result"
    }
   ],
   "source": [
    "l3 = [8,0,7]\n",
    "l3.reverse()\n",
    "int(''.join(str(i) for i in l3))"
   ]
  },
  {
   "cell_type": "code",
   "execution_count": 78,
   "id": "9bd10484",
   "metadata": {
    "ExecuteTime": {
     "end_time": "2022-09-09T12:42:42.305720Z",
     "start_time": "2022-09-09T12:42:42.300805Z"
    }
   },
   "outputs": [],
   "source": [
    "a = -2\n",
    "b = 2 "
   ]
  },
  {
   "cell_type": "code",
   "execution_count": 79,
   "id": "128e2457",
   "metadata": {
    "ExecuteTime": {
     "end_time": "2022-09-09T12:42:42.479128Z",
     "start_time": "2022-09-09T12:42:42.473723Z"
    }
   },
   "outputs": [],
   "source": [
    "a_l = [*range(a)]\n",
    "b_l = [*range(b)]"
   ]
  },
  {
   "cell_type": "code",
   "execution_count": 80,
   "id": "2f7f556c",
   "metadata": {
    "ExecuteTime": {
     "end_time": "2022-09-09T12:42:42.733908Z",
     "start_time": "2022-09-09T12:42:42.728114Z"
    }
   },
   "outputs": [
    {
     "name": "stdout",
     "output_type": "stream",
     "text": [
      "[0, 1]\n"
     ]
    }
   ],
   "source": [
    "c_l=[*range(a), *range(b)]\n",
    "print(c_l)\n",
    "ans=c_l.index(c_l[-1])"
   ]
  },
  {
   "cell_type": "code",
   "execution_count": 72,
   "id": "2dfc6bd8",
   "metadata": {
    "ExecuteTime": {
     "end_time": "2022-09-09T12:41:15.012637Z",
     "start_time": "2022-09-09T12:41:15.008867Z"
    }
   },
   "outputs": [],
   "source": [
    "ans=c_l.index(c_l[-1])"
   ]
  },
  {
   "cell_type": "code",
   "execution_count": 82,
   "id": "203da77e",
   "metadata": {
    "ExecuteTime": {
     "end_time": "2022-09-09T12:42:57.223666Z",
     "start_time": "2022-09-09T12:42:57.212708Z"
    }
   },
   "outputs": [
    {
     "data": {
      "text/plain": [
       "[]"
      ]
     },
     "execution_count": 82,
     "metadata": {},
     "output_type": "execute_result"
    }
   ],
   "source": [
    "a_l"
   ]
  },
  {
   "cell_type": "code",
   "execution_count": null,
   "id": "ed8c27ff",
   "metadata": {},
   "outputs": [],
   "source": []
  }
 ],
 "metadata": {
  "kernelspec": {
   "display_name": "Python 3 (ipykernel)",
   "language": "python",
   "name": "python3"
  },
  "language_info": {
   "codemirror_mode": {
    "name": "ipython",
    "version": 3
   },
   "file_extension": ".py",
   "mimetype": "text/x-python",
   "name": "python",
   "nbconvert_exporter": "python",
   "pygments_lexer": "ipython3",
   "version": "3.8.6"
  },
  "toc": {
   "base_numbering": 1,
   "nav_menu": {},
   "number_sections": true,
   "sideBar": true,
   "skip_h1_title": false,
   "title_cell": "Table of Contents",
   "title_sidebar": "Contents",
   "toc_cell": false,
   "toc_position": {},
   "toc_section_display": true,
   "toc_window_display": false
  }
 },
 "nbformat": 4,
 "nbformat_minor": 5
}
