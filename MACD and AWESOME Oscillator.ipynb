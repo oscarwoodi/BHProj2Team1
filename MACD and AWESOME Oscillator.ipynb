{
 "cells": [
  {
   "cell_type": "code",
   "execution_count": 280,
   "id": "276e941e",
   "metadata": {
    "ExecuteTime": {
     "end_time": "2022-08-29T17:33:36.195288Z",
     "start_time": "2022-08-29T17:33:36.187442Z"
    }
   },
   "outputs": [
    {
     "name": "stderr",
     "output_type": "stream",
     "text": [
      "UsageError: Line magic function `%autoreload` not found.\n"
     ]
    }
   ],
   "source": [
    "%autoreload 2"
   ]
  },
  {
   "cell_type": "code",
   "execution_count": 1,
   "id": "2d5e2531",
   "metadata": {
    "ExecuteTime": {
     "end_time": "2022-08-24T15:31:21.988332Z",
     "start_time": "2022-08-24T15:31:20.311450Z"
    }
   },
   "outputs": [],
   "source": [
    "# imports \n",
    "import pandas as pd\n",
    "import numpy as np \n",
    "import matplotlib.pyplot as plt\n",
    "from mpl_toolkits import mplot3d\n",
    "plt.style.use('fivethirtyeight')\n",
    "import math\n",
    "import seaborn as sns\n",
    "from datetime import datetime"
   ]
  },
  {
   "cell_type": "code",
   "execution_count": 19,
   "id": "80774ea6",
   "metadata": {
    "ExecuteTime": {
     "end_time": "2022-08-24T15:38:40.491594Z",
     "start_time": "2022-08-24T15:38:39.263335Z"
    }
   },
   "outputs": [],
   "source": [
    "df = pd.read_excel('Data/Time Series Data.xlsx', index_col = 'Day')\n",
    "df = df"
   ]
  },
  {
   "cell_type": "code",
   "execution_count": 220,
   "id": "c6190f3a",
   "metadata": {
    "ExecuteTime": {
     "end_time": "2022-08-26T09:26:56.270118Z",
     "start_time": "2022-08-26T09:26:56.245371Z"
    }
   },
   "outputs": [
    {
     "ename": "SyntaxError",
     "evalue": "invalid syntax (3241433976.py, line 41)",
     "output_type": "error",
     "traceback": [
      "\u001b[0;36m  File \u001b[0;32m\"/var/folders/p2/6ddwj2812811pbqjm8t6brv80000gn/T/ipykernel_48082/3241433976.py\"\u001b[0;36m, line \u001b[0;32m41\u001b[0m\n\u001b[0;31m    elif:\u001b[0m\n\u001b[0m        ^\u001b[0m\n\u001b[0;31mSyntaxError\u001b[0m\u001b[0;31m:\u001b[0m invalid syntax\n"
     ]
    }
   ],
   "source": [
    "# moving average strategy\n",
    "# ma function\n",
    "\n",
    "def rolling_averages_inflexions(data, window): \n",
    "    # generating simple moving average\n",
    "    \n",
    "    # data - is the series to generate signals for\n",
    "    # window - is the window used to generate the average\n",
    "    # lag - is how far % past the average before a signal is generated\n",
    "    \n",
    "    SMA = data.rolling(window = window).mean()\n",
    "    gradients = pd.Series(np.gradient(SMA))\n",
    "    second_gradients = pd.Series(np.gradient(gradients))\n",
    "    # generating signals\n",
    "    sigPriceBuy = []\n",
    "    sigPriceSell = []\n",
    "      \n",
    "    #flag = 1: long position, flag = 0: short position, flag = -1: no position\n",
    "    flag = -1\n",
    "    \n",
    "    flag_status = []\n",
    "    \n",
    "    daily_profit = []\n",
    "    cumulative_profit = []\n",
    "    daily_close_price = data[i]\n",
    "    \n",
    "    \n",
    "    for i in range(len(data)):\n",
    "        flag_status.append(flag)\n",
    "        \n",
    "        if i == len(data)-1:\n",
    "            \n",
    "            if flag == 1:\n",
    "                \n",
    "                #from long to no position\n",
    "                sigPriceBuy.append(np.nan)\n",
    "                sigPriceSell.append(data[i])\n",
    "                flag = -1\n",
    "                daily_profit.append(data[i])\n",
    "                \n",
    "            elif:\n",
    "                #from short to nothing\n",
    "                flag == 0:\n",
    "                sigPriceBuy.append(data[i])\n",
    "                sigPriceSell.append(np.nan)\n",
    "                flag = -1\n",
    "                daily_profit.append(data[i])\n",
    "                \n",
    "        elif gradients[i]>0 and gradients[i-1]<0:\n",
    "            \n",
    "            if flag != 1:\n",
    "                #from nothing or short to long\n",
    "                sigPriceBuy.append(data[i])\n",
    "                sigPriceSell.append(np.nan)\n",
    "                flag = 1\n",
    "                price_bought_at = data[i]\n",
    "                \n",
    "            else:\n",
    "                sigPriceBuy.append(np.nan)\n",
    "                sigPriceSell.append(np.nan)\n",
    "                \n",
    "        elif gradients[i]<0 and gradients[i-1]>0:\n",
    "            if flag != 0:\n",
    "                sigPriceBuy.append(np.nan)\n",
    "                sigPriceSell.append(data[i])\n",
    "                flag = 0\n",
    "            else:\n",
    "                sigPriceBuy.append(np.nan)\n",
    "                sigPriceSell.append(np.nan)\n",
    "        else: \n",
    "            sigPriceBuy.append(np.nan)\n",
    "            sigPriceSell.append(np.nan)\n",
    "\n",
    "    return (sigPriceBuy, sigPriceSell, flag_status)\n",
    "    "
   ]
  },
  {
   "cell_type": "markdown",
   "id": "9c878b75",
   "metadata": {},
   "source": [
    "To implement below:\n",
    "- range of possible windows to be used\n",
    "- second gradients and additional purchases of security. \n",
    "- remove need for final offload"
   ]
  },
  {
   "cell_type": "code",
   "execution_count": 233,
   "id": "dbaca9b0",
   "metadata": {
    "ExecuteTime": {
     "end_time": "2022-08-26T11:11:50.807113Z",
     "start_time": "2022-08-26T11:11:50.755118Z"
    }
   },
   "outputs": [],
   "source": [
    "def rolling_averages_inflexions_comp(data, window): \n",
    "    # generating simple moving average\n",
    "    \n",
    "    # data - is the series to generate signals for\n",
    "    # window - is the window used to generate the average\n",
    "    # lag - is how far % past the average before a signal is generated\n",
    "    \n",
    "    SMA = data.rolling(window = window).mean()\n",
    "    #gradients_prov = np.gradient(SMA)\n",
    "    gradients_prov = pd.DataFrame.pct_change(SMA)\n",
    "    #gradients_prov = np.insert(gradients_prov,0,np.nan)\n",
    "    #gradients_prov = gradients_prov[:-1].copy()\n",
    "    \n",
    "    gradients = pd.Series(gradients_prov).fillna(0)\n",
    "    second_gradients = pd.Series(np.gradient(gradients))\n",
    "    # generating signals\n",
    "    sigPriceBuy = []\n",
    "    sigPriceSell = []\n",
    "      \n",
    "    #flag = 1: long position, flag = -1: short position, flag = 0: no position\n",
    "    \n",
    "    #initial position is nothing\n",
    "    flag = 0\n",
    "    \n",
    "    flag_status = []\n",
    "    position = []\n",
    "    daily_profit = []\n",
    "    daily_close_price = data\n",
    "    profit = 0\n",
    "    trade_base = 100000 #100,000\n",
    "    \n",
    "###########BASE PROFIT OVERALL   \n",
    "    for i in range(len(data)):\n",
    "        \n",
    "        flag_status.append(flag)\n",
    "\n",
    "        if gradients[i]>0 and gradients[i-1]<=0:\n",
    "\n",
    "            #From nothing to long\n",
    "            if flag == 0:\n",
    "                price_bought_at = data[i]\n",
    "                flag = 1\n",
    "                sigPriceBuy.append('BUY')\n",
    "                sigPriceSell.append(0)                    \n",
    "\n",
    "            #From short to a long\n",
    "            elif flag == -1:\n",
    "                profit += price_short_at - data[i]\n",
    "                price_bought_at = data[i]\n",
    "                flag = 1\n",
    "                sigPriceBuy.append('BUY')\n",
    "                sigPriceSell.append(0)\n",
    "\n",
    "            #from long to long - NO CHANGE\n",
    "            elif flag == 1:\n",
    "                sigPriceBuy.append(0)\n",
    "                sigPriceSell.append(0)\n",
    "\n",
    "                pass\n",
    "\n",
    "        # TAKING A SHORT POSITION    \n",
    "        elif gradients[i]<0 and gradients[i-1]>=0:\n",
    "\n",
    "            #from nothing to a short\n",
    "            if flag == 0:\n",
    "                price_short_at = data[i]\n",
    "                flag = -1\n",
    "                sigPriceBuy.append(0)\n",
    "                sigPriceSell.append('SELL') \n",
    "\n",
    "            #from short to short - NO CHANGE\n",
    "            elif flag == -1:\n",
    "                sigPriceBuy.append(0)\n",
    "                sigPriceSell.append(0)\n",
    "                pass\n",
    "\n",
    "            #from long to a short \n",
    "            elif flag == 1:\n",
    "                profit += data[i] - price_bought_at \n",
    "                price_short_at = data[i]\n",
    "                flag = -1\n",
    "                sigPriceBuy.append(0)\n",
    "                sigPriceSell.append('SELL')\n",
    "        else:\n",
    "            sigPriceBuy.append(0)\n",
    "            sigPriceSell.append(0)\n",
    "\n",
    "\n",
    "########DAILY PROFIT\n",
    "    current_position = 0\n",
    "    for i in range(0,len(data)):\n",
    "        \n",
    "        if flag_status[i]==0:\n",
    "            daily_profit.append(0)\n",
    "            position.append(0)\n",
    "\n",
    "        if flag_status[i]==1:\n",
    "            daily_profit.append(data[i]-data[i-1])\n",
    "            position.append(trade_base)\n",
    "            \n",
    "        if flag_status[i]==-1:\n",
    "            daily_profit.append(data[i-1]-data[i])\n",
    "            position.append(-trade_base)\n",
    "            \n",
    "########CUMULATIVE PROFIT            \n",
    "    cumulative_profit = np.cumsum(daily_profit)\n",
    "    \n",
    "########CONCATENATE\n",
    "    \n",
    "    #print(len(sigPriceBuy))\n",
    "    #print(len(sigPriceSell))\n",
    "    #print(len(flag_status))\n",
    "    #print(len(daily_profit))\n",
    "    #print(len(cumulative_profit))\n",
    "    \n",
    "    table = pd.DataFrame({\n",
    "        'PRICE':data,\n",
    "        'GRADIENTS':gradients,\n",
    "        'SECOND_GRADIENTS':second_gradients,\n",
    "        'SMA':SMA,\n",
    "        'BUY_SIGNALS':sigPriceBuy,\n",
    "        'SELL_SIGNALS':sigPriceSell,\n",
    "        'POSITION':flag_status,\n",
    "        'DAILY PROFIT':daily_profit,\n",
    "        'CUMULATIVE PROFIT':cumulative_profit\n",
    "    })\n",
    "    \n",
    "    \n",
    "\n",
    "########RETURN\n",
    "\n",
    "    return table, (sigPriceBuy, sigPriceSell, flag_status, daily_profit, cumulative_profit, profit)"
   ]
  },
  {
   "cell_type": "code",
   "execution_count": 234,
   "id": "8df3438c",
   "metadata": {
    "ExecuteTime": {
     "end_time": "2022-08-26T11:11:51.730945Z",
     "start_time": "2022-08-26T11:11:51.557373Z"
    }
   },
   "outputs": [
    {
     "name": "stdout",
     "output_type": "stream",
     "text": [
      "660.7256534247421\n"
     ]
    },
    {
     "data": {
      "text/html": [
       "<div>\n",
       "<style scoped>\n",
       "    .dataframe tbody tr th:only-of-type {\n",
       "        vertical-align: middle;\n",
       "    }\n",
       "\n",
       "    .dataframe tbody tr th {\n",
       "        vertical-align: top;\n",
       "    }\n",
       "\n",
       "    .dataframe thead th {\n",
       "        text-align: right;\n",
       "    }\n",
       "</style>\n",
       "<table border=\"1\" class=\"dataframe\">\n",
       "  <thead>\n",
       "    <tr style=\"text-align: right;\">\n",
       "      <th></th>\n",
       "      <th>PRICE</th>\n",
       "      <th>GRADIENTS</th>\n",
       "      <th>SECOND_GRADIENTS</th>\n",
       "      <th>SMA</th>\n",
       "      <th>BUY_SIGNALS</th>\n",
       "      <th>SELL_SIGNALS</th>\n",
       "      <th>POSITION</th>\n",
       "      <th>DAILY PROFIT</th>\n",
       "      <th>CUMULATIVE PROFIT</th>\n",
       "    </tr>\n",
       "  </thead>\n",
       "  <tbody>\n",
       "    <tr>\n",
       "      <th>2597</th>\n",
       "      <td>1051.603722</td>\n",
       "      <td>-0.002389</td>\n",
       "      <td>-0.000482</td>\n",
       "      <td>1051.603722</td>\n",
       "      <td>0</td>\n",
       "      <td>SELL</td>\n",
       "      <td>1</td>\n",
       "      <td>-2.518822</td>\n",
       "      <td>665.763298</td>\n",
       "    </tr>\n",
       "    <tr>\n",
       "      <th>2598</th>\n",
       "      <td>1052.656546</td>\n",
       "      <td>0.001001</td>\n",
       "      <td>0.000159</td>\n",
       "      <td>1052.656546</td>\n",
       "      <td>BUY</td>\n",
       "      <td>0</td>\n",
       "      <td>-1</td>\n",
       "      <td>-1.052825</td>\n",
       "      <td>664.710473</td>\n",
       "    </tr>\n",
       "    <tr>\n",
       "      <th>2599</th>\n",
       "      <td>1050.475914</td>\n",
       "      <td>-0.002072</td>\n",
       "      <td>0.007659</td>\n",
       "      <td>1050.475914</td>\n",
       "      <td>0</td>\n",
       "      <td>SELL</td>\n",
       "      <td>1</td>\n",
       "      <td>-2.180633</td>\n",
       "      <td>662.529840</td>\n",
       "    </tr>\n",
       "    <tr>\n",
       "      <th>2600</th>\n",
       "      <td>1067.617984</td>\n",
       "      <td>0.016318</td>\n",
       "      <td>0.001511</td>\n",
       "      <td>1067.617984</td>\n",
       "      <td>BUY</td>\n",
       "      <td>0</td>\n",
       "      <td>-1</td>\n",
       "      <td>-17.142070</td>\n",
       "      <td>645.387770</td>\n",
       "    </tr>\n",
       "    <tr>\n",
       "      <th>2601</th>\n",
       "      <td>1068.632552</td>\n",
       "      <td>0.000950</td>\n",
       "      <td>-0.008159</td>\n",
       "      <td>1068.632552</td>\n",
       "      <td>0</td>\n",
       "      <td>0</td>\n",
       "      <td>1</td>\n",
       "      <td>1.014568</td>\n",
       "      <td>646.402338</td>\n",
       "    </tr>\n",
       "    <tr>\n",
       "      <th>2602</th>\n",
       "      <td>1068.632552</td>\n",
       "      <td>0.000000</td>\n",
       "      <td>0.009445</td>\n",
       "      <td>1068.632552</td>\n",
       "      <td>0</td>\n",
       "      <td>0</td>\n",
       "      <td>1</td>\n",
       "      <td>0.000000</td>\n",
       "      <td>646.402338</td>\n",
       "    </tr>\n",
       "    <tr>\n",
       "      <th>2603</th>\n",
       "      <td>1089.834425</td>\n",
       "      <td>0.019840</td>\n",
       "      <td>-0.000190</td>\n",
       "      <td>1089.834425</td>\n",
       "      <td>0</td>\n",
       "      <td>0</td>\n",
       "      <td>1</td>\n",
       "      <td>21.201873</td>\n",
       "      <td>667.604211</td>\n",
       "    </tr>\n",
       "    <tr>\n",
       "      <th>2604</th>\n",
       "      <td>1089.421252</td>\n",
       "      <td>-0.000379</td>\n",
       "      <td>-0.006953</td>\n",
       "      <td>1089.421252</td>\n",
       "      <td>0</td>\n",
       "      <td>SELL</td>\n",
       "      <td>1</td>\n",
       "      <td>-0.413173</td>\n",
       "      <td>667.191039</td>\n",
       "    </tr>\n",
       "    <tr>\n",
       "      <th>2605</th>\n",
       "      <td>1095.886638</td>\n",
       "      <td>0.005935</td>\n",
       "      <td>0.003843</td>\n",
       "      <td>1095.886638</td>\n",
       "      <td>BUY</td>\n",
       "      <td>0</td>\n",
       "      <td>-1</td>\n",
       "      <td>-6.465385</td>\n",
       "      <td>660.725653</td>\n",
       "    </tr>\n",
       "    <tr>\n",
       "      <th>2606</th>\n",
       "      <td>1103.894534</td>\n",
       "      <td>0.007307</td>\n",
       "      <td>0.001373</td>\n",
       "      <td>1103.894534</td>\n",
       "      <td>0</td>\n",
       "      <td>0</td>\n",
       "      <td>1</td>\n",
       "      <td>8.007896</td>\n",
       "      <td>668.733550</td>\n",
       "    </tr>\n",
       "  </tbody>\n",
       "</table>\n",
       "</div>"
      ],
      "text/plain": [
       "            PRICE  GRADIENTS  SECOND_GRADIENTS          SMA BUY_SIGNALS  \\\n",
       "2597  1051.603722  -0.002389         -0.000482  1051.603722           0   \n",
       "2598  1052.656546   0.001001          0.000159  1052.656546         BUY   \n",
       "2599  1050.475914  -0.002072          0.007659  1050.475914           0   \n",
       "2600  1067.617984   0.016318          0.001511  1067.617984         BUY   \n",
       "2601  1068.632552   0.000950         -0.008159  1068.632552           0   \n",
       "2602  1068.632552   0.000000          0.009445  1068.632552           0   \n",
       "2603  1089.834425   0.019840         -0.000190  1089.834425           0   \n",
       "2604  1089.421252  -0.000379         -0.006953  1089.421252           0   \n",
       "2605  1095.886638   0.005935          0.003843  1095.886638         BUY   \n",
       "2606  1103.894534   0.007307          0.001373  1103.894534           0   \n",
       "\n",
       "     SELL_SIGNALS  POSITION  DAILY PROFIT  CUMULATIVE PROFIT  \n",
       "2597         SELL         1     -2.518822         665.763298  \n",
       "2598            0        -1     -1.052825         664.710473  \n",
       "2599         SELL         1     -2.180633         662.529840  \n",
       "2600            0        -1    -17.142070         645.387770  \n",
       "2601            0         1      1.014568         646.402338  \n",
       "2602            0         1      0.000000         646.402338  \n",
       "2603            0         1     21.201873         667.604211  \n",
       "2604         SELL         1     -0.413173         667.191039  \n",
       "2605            0        -1     -6.465385         660.725653  \n",
       "2606            0         1      8.007896         668.733550  "
      ]
     },
     "execution_count": 234,
     "metadata": {},
     "output_type": "execute_result"
    }
   ],
   "source": [
    "table, data_tuple = rolling_averages_inflexions_comp(df['Series 1'],1)\n",
    "data_tuple[5]\n",
    "print(data_tuple[5])\n",
    "#plt.figure(figsize=(10,10))\n",
    "table.tail(10)"
   ]
  },
  {
   "cell_type": "code",
   "execution_count": 223,
   "id": "7997f5e4",
   "metadata": {
    "ExecuteTime": {
     "end_time": "2022-08-26T09:27:14.346394Z",
     "start_time": "2022-08-26T09:27:12.242928Z"
    },
    "scrolled": true
   },
   "outputs": [
    {
     "name": "stdout",
     "output_type": "stream",
     "text": [
      "the profit of series1 is 393.5223725286172\n",
      "the profit of series2 is -3.114264376400115\n",
      "the profit of series3 is 90.7642360976917\n",
      "the profit of series4 is -60.27866230135541\n",
      "the profit of series5 is 234.62817580072897\n",
      "the profit of series6 is 62.80694421638722\n",
      "the profit of series7 is 62.55794923916139\n",
      "the profit of series8 is 215.6278052064648\n",
      "the profit of series9 is 9.366638825578463\n",
      "the profit of series10 is -82.28848114169263\n",
      "the profit of series11 is -205.6775033450272\n",
      "the profit of series12 is -268.87889582227933\n",
      "the profit of series13 is 2156.4345549738196\n",
      "the profit of series14 is 569.2882042585281\n",
      "the profit of series15 is -21.111527547251626\n",
      "the profit of series16 is -88.72280069576561\n",
      "the profit of series17 is -56.565599179934026\n",
      "the profit of series18 is -31.51614213773516\n",
      "the profit of series19 is 52.38621028094765\n",
      "the profit of series20 is -163.63336085879422\n",
      "the profit of series21 is 67.71836865767511\n",
      "the profit of series22 is -12.44640255325099\n",
      "the profit of series23 is -24.917635357741915\n",
      "the profit of series24 is 19.784911370514706\n",
      "the profit of series25 is -65.15192209390128\n",
      "the profit of series26 is -47.20253488556945\n",
      "the profit of series27 is -82.21402953147947\n",
      "the profit of series28 is -1422.405189620758\n",
      "668.7335496113122\n"
     ]
    },
    {
     "data": {
      "text/plain": [
       "<AxesSubplot:xlabel='Day'>"
      ]
     },
     "execution_count": 223,
     "metadata": {},
     "output_type": "execute_result"
    },
    {
     "data": {
      "image/png": "[encoded data removed]",
      "text/plain": [
       "<Figure size 720x720 with 1 Axes>"
      ]
     },
     "metadata": {},
     "output_type": "display_data"
    }
   ],
   "source": [
    "def profitno(series, window):\n",
    "        table, data_tuple = rolling_averages_inflexions(df['Series {}'.format(series)],window)\n",
    "        print('the profit of series{} is {}'.format(series, data_tuple[5]))\n",
    "\n",
    "for i in range(1,29):\n",
    "    profitno(i,15)\n",
    "\n",
    "print(data_tuple[5])\n",
    "plt.figure(figsize=(10,10))\n",
    "table['CUMULATIVE PROFIT'].plot()"
   ]
  },
  {
   "cell_type": "code",
   "execution_count": 232,
   "id": "d66f4b39",
   "metadata": {
    "ExecuteTime": {
     "end_time": "2022-08-26T10:30:06.380376Z",
     "start_time": "2022-08-26T10:30:06.221161Z"
    }
   },
   "outputs": [
    {
     "data": {
      "text/html": [
       "<div>\n",
       "<style scoped>\n",
       "    .dataframe tbody tr th:only-of-type {\n",
       "        vertical-align: middle;\n",
       "    }\n",
       "\n",
       "    .dataframe tbody tr th {\n",
       "        vertical-align: top;\n",
       "    }\n",
       "\n",
       "    .dataframe thead th {\n",
       "        text-align: right;\n",
       "    }\n",
       "</style>\n",
       "<table border=\"1\" class=\"dataframe\">\n",
       "  <thead>\n",
       "    <tr style=\"text-align: right;\">\n",
       "      <th></th>\n",
       "      <th>Market Price</th>\n",
       "      <th>Trade</th>\n",
       "      <th>Position</th>\n",
       "      <th>PnL Calc</th>\n",
       "      <th>Unnamed: 5</th>\n",
       "      <th>Unnamed: 6</th>\n",
       "      <th>Unnamed: 7</th>\n",
       "      <th>Unnamed: 8</th>\n",
       "    </tr>\n",
       "    <tr>\n",
       "      <th>Day</th>\n",
       "      <th></th>\n",
       "      <th></th>\n",
       "      <th></th>\n",
       "      <th></th>\n",
       "      <th></th>\n",
       "      <th></th>\n",
       "      <th></th>\n",
       "      <th></th>\n",
       "    </tr>\n",
       "  </thead>\n",
       "  <tbody>\n",
       "    <tr>\n",
       "      <th>0.0</th>\n",
       "      <td>100.000000</td>\n",
       "      <td>NaN</td>\n",
       "      <td>0.0</td>\n",
       "      <td>NaN</td>\n",
       "      <td>NaN</td>\n",
       "      <td>NaN</td>\n",
       "      <td>NaN</td>\n",
       "      <td>NaN</td>\n",
       "    </tr>\n",
       "    <tr>\n",
       "      <th>1.0</th>\n",
       "      <td>99.976347</td>\n",
       "      <td>0.0</td>\n",
       "      <td>0.0</td>\n",
       "      <td>0.000000</td>\n",
       "      <td>NaN</td>\n",
       "      <td>NaN</td>\n",
       "      <td>Profit:</td>\n",
       "      <td>399558.781171</td>\n",
       "    </tr>\n",
       "    <tr>\n",
       "      <th>2.0</th>\n",
       "      <td>100.147087</td>\n",
       "      <td>0.0</td>\n",
       "      <td>0.0</td>\n",
       "      <td>0.000000</td>\n",
       "      <td>NaN</td>\n",
       "      <td>NaN</td>\n",
       "      <td>NaN</td>\n",
       "      <td>NaN</td>\n",
       "    </tr>\n",
       "    <tr>\n",
       "      <th>3.0</th>\n",
       "      <td>100.077292</td>\n",
       "      <td>0.0</td>\n",
       "      <td>0.0</td>\n",
       "      <td>0.000000</td>\n",
       "      <td>NaN</td>\n",
       "      <td>NaN</td>\n",
       "      <td>NaN</td>\n",
       "      <td>NaN</td>\n",
       "    </tr>\n",
       "    <tr>\n",
       "      <th>4.0</th>\n",
       "      <td>100.048834</td>\n",
       "      <td>0.0</td>\n",
       "      <td>0.0</td>\n",
       "      <td>0.000000</td>\n",
       "      <td>NaN</td>\n",
       "      <td>NaN</td>\n",
       "      <td>NaN</td>\n",
       "      <td>NaN</td>\n",
       "    </tr>\n",
       "    <tr>\n",
       "      <th>...</th>\n",
       "      <td>...</td>\n",
       "      <td>...</td>\n",
       "      <td>...</td>\n",
       "      <td>...</td>\n",
       "      <td>...</td>\n",
       "      <td>...</td>\n",
       "      <td>...</td>\n",
       "      <td>...</td>\n",
       "    </tr>\n",
       "    <tr>\n",
       "      <th>497.0</th>\n",
       "      <td>109.117316</td>\n",
       "      <td>0.0</td>\n",
       "      <td>75000.0</td>\n",
       "      <td>0.000000</td>\n",
       "      <td>NaN</td>\n",
       "      <td>NaN</td>\n",
       "      <td>NaN</td>\n",
       "      <td>NaN</td>\n",
       "    </tr>\n",
       "    <tr>\n",
       "      <th>498.0</th>\n",
       "      <td>109.047841</td>\n",
       "      <td>0.0</td>\n",
       "      <td>75000.0</td>\n",
       "      <td>0.000000</td>\n",
       "      <td>NaN</td>\n",
       "      <td>NaN</td>\n",
       "      <td>NaN</td>\n",
       "      <td>NaN</td>\n",
       "    </tr>\n",
       "    <tr>\n",
       "      <th>499.0</th>\n",
       "      <td>109.117825</td>\n",
       "      <td>0.0</td>\n",
       "      <td>75000.0</td>\n",
       "      <td>0.000000</td>\n",
       "      <td>NaN</td>\n",
       "      <td>NaN</td>\n",
       "      <td>NaN</td>\n",
       "      <td>NaN</td>\n",
       "    </tr>\n",
       "    <tr>\n",
       "      <th>500.0</th>\n",
       "      <td>109.254225</td>\n",
       "      <td>0.0</td>\n",
       "      <td>75000.0</td>\n",
       "      <td>0.000000</td>\n",
       "      <td>NaN</td>\n",
       "      <td>NaN</td>\n",
       "      <td>NaN</td>\n",
       "      <td>NaN</td>\n",
       "    </tr>\n",
       "    <tr>\n",
       "      <th>NaN</th>\n",
       "      <td>NaN</td>\n",
       "      <td>NaN</td>\n",
       "      <td>NaN</td>\n",
       "      <td>399558.781171</td>\n",
       "      <td>NaN</td>\n",
       "      <td>NaN</td>\n",
       "      <td>NaN</td>\n",
       "      <td>NaN</td>\n",
       "    </tr>\n",
       "  </tbody>\n",
       "</table>\n",
       "<p>502 rows × 8 columns</p>\n",
       "</div>"
      ],
      "text/plain": [
       "       Market Price  Trade  Position       PnL Calc  Unnamed: 5  Unnamed: 6  \\\n",
       "Day                                                                           \n",
       "0.0      100.000000    NaN       0.0            NaN         NaN         NaN   \n",
       "1.0       99.976347    0.0       0.0       0.000000         NaN         NaN   \n",
       "2.0      100.147087    0.0       0.0       0.000000         NaN         NaN   \n",
       "3.0      100.077292    0.0       0.0       0.000000         NaN         NaN   \n",
       "4.0      100.048834    0.0       0.0       0.000000         NaN         NaN   \n",
       "...             ...    ...       ...            ...         ...         ...   \n",
       "497.0    109.117316    0.0   75000.0       0.000000         NaN         NaN   \n",
       "498.0    109.047841    0.0   75000.0       0.000000         NaN         NaN   \n",
       "499.0    109.117825    0.0   75000.0       0.000000         NaN         NaN   \n",
       "500.0    109.254225    0.0   75000.0       0.000000         NaN         NaN   \n",
       "NaN             NaN    NaN       NaN  399558.781171         NaN         NaN   \n",
       "\n",
       "      Unnamed: 7     Unnamed: 8  \n",
       "Day                              \n",
       "0.0          NaN            NaN  \n",
       "1.0      Profit:  399558.781171  \n",
       "2.0          NaN            NaN  \n",
       "3.0          NaN            NaN  \n",
       "4.0          NaN            NaN  \n",
       "...          ...            ...  \n",
       "497.0        NaN            NaN  \n",
       "498.0        NaN            NaN  \n",
       "499.0        NaN            NaN  \n",
       "500.0        NaN            NaN  \n",
       "NaN          NaN            NaN  \n",
       "\n",
       "[502 rows x 8 columns]"
      ]
     },
     "execution_count": 232,
     "metadata": {},
     "output_type": "execute_result"
    }
   ],
   "source": [
    "data = pd.read_excel('Data/Test Bed.xlsx', index_col='Day')\n",
    "data"
   ]
  },
  {
   "cell_type": "code",
   "execution_count": 39,
   "id": "f66cd4c8",
   "metadata": {
    "ExecuteTime": {
     "end_time": "2022-08-25T11:04:07.668380Z",
     "start_time": "2022-08-25T11:04:07.276967Z"
    }
   },
   "outputs": [
    {
     "data": {
      "image/png": "[encoded data removed]",
      "text/plain": [
       "<Figure size 1440x720 with 1 Axes>"
      ]
     },
     "metadata": {},
     "output_type": "display_data"
    }
   ],
   "source": [
    "window_test =15\n",
    "series = 'Series 23'\n",
    "# =========================================\n",
    "\n",
    "#Store the buy and sell data into a variable\n",
    "buy_sell_data_test = rolling_averages_inflexions(df[series], window_test)\n",
    "\n",
    "# visualise test\n",
    "plt.figure(figsize=(20, 10))\n",
    "plt.plot(df[series], label=series, alpha=0.4)\n",
    "plt.plot(df[series].rolling(window=window_test).mean(), label='SMA', alpha=0.4)\n",
    "plt.scatter(df.index, buy_sell_data_test[0], label='Buy', marker='^', color='green')\n",
    "plt.scatter(df.index, buy_sell_data_test[1], label='Sell', marker='v', color='red')\n",
    "plt.title('Stock Adj. Close Price History Buy & Sell Signals')\n",
    "plt.xlabel('Days')\n",
    "plt.ylabel('Adj. Close Price ($)')\n",
    "plt.legend(loc='upper left')\n",
    "plt.show()"
   ]
  },
  {
   "cell_type": "code",
   "execution_count": 22,
   "id": "8f7178be",
   "metadata": {
    "ExecuteTime": {
     "end_time": "2022-08-24T15:38:41.764521Z",
     "start_time": "2022-08-24T15:38:41.758488Z"
    }
   },
   "outputs": [],
   "source": [
    "def Backtest(data, buy_sell):\n",
    "    \n",
    "    profit = np.nansum(buy_sell[1]) - np.nansum(buy_sell[0])\n",
    "    data_profit = data.iloc[-1] - data[0]\n",
    "    rel_profit = profit - data_profit\n",
    "    \n",
    "    return rel_profit\n"
   ]
  },
  {
   "cell_type": "code",
   "execution_count": 26,
   "id": "c84a5c94",
   "metadata": {
    "ExecuteTime": {
     "end_time": "2022-08-24T15:47:29.705190Z",
     "start_time": "2022-08-24T15:47:29.678827Z"
    }
   },
   "outputs": [],
   "source": [
    "def Backtest_2(data, buy_sell_data):\n",
    "    \n",
    "    profit = 0\n",
    "    \n",
    "    for i in range(1,len(buy_sell_data[2])): \n",
    "\n",
    "        if buy_sell_data[2][i]==buy_sell_data[2][i-1]:\n",
    "            #no change\n",
    "            pass\n",
    "\n",
    "        elif buy_sell_data[2][i] == 1 and buy_sell_data[2][i-1]==-1:\n",
    "            #from nothing to long\n",
    "            price_bought_at = data[i]\n",
    "            \n",
    "        \n",
    "        elif buy_sell_data[2][i] == 0 and buy_sell_data[2][i-1]==-1:\n",
    "            #from nothing to short\n",
    "            price_shorted_at = data[i]\n",
    "            \n",
    "\n",
    "        elif buy_sell_data[2][i] == 0 and buy_sell_data[2][i-1]==1:\n",
    "            #from long to short\n",
    "            profit += df[series][i] - price_bought_at\n",
    "            price_shorted_at = data[i]\n",
    "\n",
    "        elif buy_sell_data[2][i] == 1 and buy_sell_data[2][i-1]==0:\n",
    "            #from short to long\n",
    "            profit += price_shorted_at - df[series][i]  \n",
    "            price_bought_at = data[i]   \n",
    "\n",
    "        elif buy_sell_data[2][i] == -1 and buy_sell_data[2][i-1]==0:\n",
    "            #from short to nothing\n",
    "            profit += price_shorted_at - df[series][i]   \n",
    "            \n",
    "        elif buy_sell_data[2][i] == -1 and buy_sell_data[2][i-1]==1:\n",
    "            #from long to nothing\n",
    "            profit += df[series][i]  - price_bought_at\n",
    "            \n",
    "    return profit  "
   ]
  },
  {
   "cell_type": "code",
   "execution_count": 32,
   "id": "fa9f3f8b",
   "metadata": {
    "ExecuteTime": {
     "end_time": "2022-08-24T16:28:59.335272Z",
     "start_time": "2022-08-24T16:28:59.318513Z"
    }
   },
   "outputs": [],
   "source": [
    "def profit_fct_inflection_points():\n",
    "    \n",
    "    \"\"\"\n",
    "    parameters that can be modified \n",
    "    \"\"\"\n",
    "    \n",
    "    assets = list(df.columns)\n",
    "    window = 30\n",
    "    profit = {}\n",
    "    \n",
    "    for i in assets:\n",
    "        profit_on_series = Backtest_2(df[i], rolling_averages_inflexions(df[i], window))\n",
    "        profit[i]=profit_on_series\n",
    "\n",
    "    return profit"
   ]
  },
  {
   "cell_type": "code",
   "execution_count": 33,
   "id": "dcb7c55f",
   "metadata": {
    "ExecuteTime": {
     "end_time": "2022-08-24T16:29:00.482623Z",
     "start_time": "2022-08-24T16:28:59.480665Z"
    }
   },
   "outputs": [
    {
     "data": {
      "text/plain": [
       "{'Series 1': 440.39420436625693,\n",
       " 'Series 2': 723.1021052872904,\n",
       " 'Series 3': 14.56265839356233,\n",
       " 'Series 4': 184.77156527816993,\n",
       " 'Series 5': -93.90248854288734,\n",
       " 'Series 6': 64.06230472151098,\n",
       " 'Series 7': -41.77683474299158,\n",
       " 'Series 8': -263.780218489321,\n",
       " 'Series 9': 227.60086669029658,\n",
       " 'Series 10': -16.92140509719293,\n",
       " 'Series 11': -26.508980502730736,\n",
       " 'Series 12': 134.37437212250308,\n",
       " 'Series 13': 2916.530765670033,\n",
       " 'Series 14': 602.4768830634312,\n",
       " 'Series 15': 28.986607862827555,\n",
       " 'Series 16': 85.83531491708224,\n",
       " 'Series 17': -47.94313553371016,\n",
       " 'Series 18': -40.490558007026024,\n",
       " 'Series 19': -62.27272767053594,\n",
       " 'Series 20': 36.15572574216091,\n",
       " 'Series 21': 19.616394282018774,\n",
       " 'Series 22': -16.49376798081471,\n",
       " 'Series 23': -12.540374389892463,\n",
       " 'Series 24': -10.64094249891977,\n",
       " 'Series 25': 54.67817623748843,\n",
       " 'Series 26': 25.88561854209628,\n",
       " 'Series 27': 11.145352857376523,\n",
       " 'Series 28': -609.6410680584356,\n",
       " 'Series 29': 41.50460974390888}"
      ]
     },
     "execution_count": 33,
     "metadata": {},
     "output_type": "execute_result"
    }
   ],
   "source": [
    "profit_inflexion = profit_fct_inflection_points()\n",
    "profit_inflexion"
   ]
  },
  {
   "cell_type": "code",
   "execution_count": 218,
   "id": "19943394",
   "metadata": {
    "ExecuteTime": {
     "end_time": "2022-08-26T09:26:04.514294Z",
     "start_time": "2022-08-26T09:26:04.497374Z"
    }
   },
   "outputs": [],
   "source": [
    "data = df['Series 1']\n",
    "SMA = data.rolling(window = window).mean()\n",
    "gradients = pd.Series(np.gradient(SMA))"
   ]
  },
  {
   "cell_type": "code",
   "execution_count": 219,
   "id": "f68a8f6d",
   "metadata": {
    "ExecuteTime": {
     "end_time": "2022-08-26T09:26:15.716389Z",
     "start_time": "2022-08-26T09:26:15.683040Z"
    }
   },
   "outputs": [
    {
     "data": {
      "text/plain": [
       "0            NaN\n",
       "1            NaN\n",
       "2            NaN\n",
       "3            NaN\n",
       "4            NaN\n",
       "          ...   \n",
       "2602   -0.246220\n",
       "2603   -0.198603\n",
       "2604    0.397844\n",
       "2605    0.416667\n",
       "2606    0.071464\n",
       "Length: 2607, dtype: float64"
      ]
     },
     "execution_count": 219,
     "metadata": {},
     "output_type": "execute_result"
    }
   ],
   "source": []
  },
  {
   "cell_type": "code",
   "execution_count": 237,
   "id": "e69a759b",
   "metadata": {
    "ExecuteTime": {
     "end_time": "2022-08-26T16:48:24.339678Z",
     "start_time": "2022-08-26T16:48:24.327663Z"
    }
   },
   "outputs": [],
   "source": [
    "prp = [1,2,3,4,5]"
   ]
  },
  {
   "cell_type": "code",
   "execution_count": 247,
   "id": "106e2972",
   "metadata": {
    "ExecuteTime": {
     "end_time": "2022-08-26T16:49:51.199099Z",
     "start_time": "2022-08-26T16:49:51.180692Z"
    }
   },
   "outputs": [
    {
     "data": {
      "text/plain": [
       "3.0"
      ]
     },
     "execution_count": 247,
     "metadata": {},
     "output_type": "execute_result"
    }
   ],
   "source": [
    "pd.Series(prp).mean()"
   ]
  },
  {
   "cell_type": "code",
   "execution_count": 248,
   "id": "c0174216",
   "metadata": {
    "ExecuteTime": {
     "end_time": "2022-08-26T17:04:33.206881Z",
     "start_time": "2022-08-26T17:04:33.191184Z"
    }
   },
   "outputs": [],
   "source": [
    "prp.append(10)"
   ]
  },
  {
   "cell_type": "code",
   "execution_count": 249,
   "id": "02daff7b",
   "metadata": {
    "ExecuteTime": {
     "end_time": "2022-08-26T17:04:35.751144Z",
     "start_time": "2022-08-26T17:04:35.740401Z"
    }
   },
   "outputs": [
    {
     "data": {
      "text/plain": [
       "[1, 2, 3, 4, 5, 10]"
      ]
     },
     "execution_count": 249,
     "metadata": {},
     "output_type": "execute_result"
    }
   ],
   "source": [
    "prp"
   ]
  },
  {
   "cell_type": "code",
   "execution_count": 250,
   "id": "23418b11",
   "metadata": {
    "ExecuteTime": {
     "end_time": "2022-08-26T17:04:41.847161Z",
     "start_time": "2022-08-26T17:04:41.837015Z"
    }
   },
   "outputs": [
    {
     "data": {
      "text/plain": [
       "[2, 3, 4, 5, 10]"
      ]
     },
     "execution_count": 250,
     "metadata": {},
     "output_type": "execute_result"
    }
   ],
   "source": [
    "prp[1:]"
   ]
  },
  {
   "cell_type": "code",
   "execution_count": 251,
   "id": "bf23050a",
   "metadata": {
    "ExecuteTime": {
     "end_time": "2022-08-26T17:05:07.635048Z",
     "start_time": "2022-08-26T17:05:07.622557Z"
    }
   },
   "outputs": [
    {
     "data": {
      "text/plain": [
       "4.166666666666667"
      ]
     },
     "execution_count": 251,
     "metadata": {},
     "output_type": "execute_result"
    }
   ],
   "source": [
    "pd.Series(prp).mean()"
   ]
  },
  {
   "cell_type": "code",
   "execution_count": 252,
   "id": "d221c5b1",
   "metadata": {
    "ExecuteTime": {
     "end_time": "2022-08-26T17:05:11.280766Z",
     "start_time": "2022-08-26T17:05:11.270899Z"
    }
   },
   "outputs": [
    {
     "data": {
      "text/plain": [
       "[1, 2, 3, 4, 5, 10]"
      ]
     },
     "execution_count": 252,
     "metadata": {},
     "output_type": "execute_result"
    }
   ],
   "source": [
    "prp"
   ]
  },
  {
   "cell_type": "code",
   "execution_count": 261,
   "id": "95f2a354",
   "metadata": {
    "ExecuteTime": {
     "end_time": "2022-08-26T17:09:48.855045Z",
     "start_time": "2022-08-26T17:09:48.849385Z"
    }
   },
   "outputs": [],
   "source": [
    "def modify_num(num):\n",
    "    num = num +2\n",
    "    return num"
   ]
  },
  {
   "cell_type": "code",
   "execution_count": 262,
   "id": "4cb5c785",
   "metadata": {
    "ExecuteTime": {
     "end_time": "2022-08-26T17:09:49.067850Z",
     "start_time": "2022-08-26T17:09:49.062097Z"
    }
   },
   "outputs": [],
   "source": [
    "def test_fct():\n",
    "    num = 3\n",
    "    num= modify_num(num)\n",
    "    return num"
   ]
  },
  {
   "cell_type": "code",
   "execution_count": 263,
   "id": "4686c3d6",
   "metadata": {
    "ExecuteTime": {
     "end_time": "2022-08-26T17:09:49.368286Z",
     "start_time": "2022-08-26T17:09:49.362388Z"
    }
   },
   "outputs": [
    {
     "name": "stdout",
     "output_type": "stream",
     "text": [
      "5\n"
     ]
    }
   ],
   "source": [
    "num1 = test_fct()\n",
    "print(num1)"
   ]
  },
  {
   "cell_type": "code",
   "execution_count": 271,
   "id": "3de56793",
   "metadata": {
    "ExecuteTime": {
     "end_time": "2022-08-26T17:18:01.322843Z",
     "start_time": "2022-08-26T17:18:01.313264Z"
    }
   },
   "outputs": [
    {
     "data": {
      "text/plain": [
       "4.166666666666667"
      ]
     },
     "execution_count": 271,
     "metadata": {},
     "output_type": "execute_result"
    }
   ],
   "source": [
    "sum(prp)/len(prp)\n",
    "    "
   ]
  },
  {
   "cell_type": "code",
   "execution_count": 273,
   "id": "8ad6de79",
   "metadata": {
    "ExecuteTime": {
     "end_time": "2022-08-26T17:46:46.465920Z",
     "start_time": "2022-08-26T17:46:46.455942Z"
    }
   },
   "outputs": [
    {
     "data": {
      "text/plain": [
       "[1, 2, 3, 4]"
      ]
     },
     "execution_count": 273,
     "metadata": {},
     "output_type": "execute_result"
    }
   ],
   "source": [
    "[*range(1,5)]"
   ]
  },
  {
   "cell_type": "code",
   "execution_count": 274,
   "id": "9c95644f",
   "metadata": {
    "ExecuteTime": {
     "end_time": "2022-08-29T17:30:45.761770Z",
     "start_time": "2022-08-29T17:30:45.618435Z"
    }
   },
   "outputs": [],
   "source": [
    "from pierre_algo import algo_call"
   ]
  },
  {
   "cell_type": "code",
   "execution_count": 277,
   "id": "5eccedbc",
   "metadata": {
    "ExecuteTime": {
     "end_time": "2022-08-29T17:32:45.486792Z",
     "start_time": "2022-08-29T17:32:10.519965Z"
    }
   },
   "outputs": [
    {
     "name": "stdout",
     "output_type": "stream",
     "text": [
      "2607\n",
      "2607\n",
      "2607\n",
      "2607\n",
      "2587\n",
      "2587\n",
      "2607\n",
      "2607\n",
      "2607\n",
      "2607\n",
      "the profit is148.03559405032138\n",
      "2607\n",
      "2607\n",
      "2607\n",
      "2607\n",
      "2588\n",
      "2588\n",
      "2607\n",
      "2607\n",
      "2607\n",
      "2607\n",
      "the profit is1187.962658700528\n",
      "2607\n",
      "2607\n",
      "2607\n",
      "2607\n",
      "2569\n",
      "2569\n",
      "2607\n",
      "2607\n",
      "2607\n",
      "2607\n",
      "the profit is644.5131776354393\n",
      "2607\n",
      "2607\n",
      "2607\n",
      "2607\n",
      "2591\n",
      "2591\n",
      "2607\n",
      "2607\n",
      "2607\n",
      "2607\n",
      "the profit is75.49007589460797\n",
      "2607\n",
      "2607\n",
      "2607\n",
      "2607\n",
      "2593\n",
      "2593\n",
      "2607\n",
      "2607\n",
      "2607\n",
      "2607\n",
      "the profit is61.219307006898305\n",
      "2607\n",
      "2607\n",
      "2607\n",
      "2607\n",
      "2573\n",
      "2573\n",
      "2607\n",
      "2607\n",
      "2607\n",
      "2607\n",
      "the profit is-173.23361844625964\n",
      "2607\n",
      "2607\n",
      "2607\n",
      "2607\n",
      "2587\n",
      "2587\n",
      "2607\n",
      "2607\n",
      "2607\n",
      "2607\n",
      "the profit is188.135988014549\n",
      "2607\n",
      "2607\n",
      "2607\n",
      "2607\n",
      "2563\n",
      "2563\n",
      "2607\n",
      "2607\n",
      "2607\n",
      "2607\n",
      "the profit is1316.5143907091501\n",
      "2607\n",
      "2607\n",
      "2607\n",
      "2607\n",
      "2594\n",
      "2594\n",
      "2607\n",
      "2607\n",
      "2607\n",
      "2607\n",
      "the profit is-86.71689859709528\n",
      "2607\n",
      "2607\n",
      "2607\n",
      "2607\n",
      "2579\n",
      "2579\n",
      "2607\n",
      "2607\n",
      "2607\n",
      "2607\n",
      "the profit is-4.887473100012144\n",
      "2607\n",
      "2607\n",
      "2607\n",
      "2607\n",
      "2587\n",
      "2587\n",
      "2607\n",
      "2607\n",
      "2607\n",
      "2607\n",
      "the profit is226.9295245672148\n",
      "2607\n",
      "2607\n",
      "2607\n",
      "2607\n",
      "2583\n",
      "2583\n",
      "2607\n",
      "2607\n",
      "2607\n",
      "2607\n",
      "the profit is466.32629888812903\n",
      "2607\n",
      "2607\n",
      "2607\n",
      "2607\n",
      "2571\n",
      "2571\n",
      "2607\n",
      "2607\n",
      "2607\n",
      "2607\n",
      "the profit is5985.9113438045515\n",
      "2607\n",
      "2607\n",
      "2607\n",
      "2607\n",
      "2578\n",
      "2578\n",
      "2607\n",
      "2607\n",
      "2607\n",
      "2607\n",
      "the profit is799.5547547264665\n",
      "2607\n",
      "2607\n",
      "2607\n",
      "2607\n",
      "2588\n",
      "2588\n",
      "2607\n",
      "2607\n",
      "2607\n",
      "2607\n",
      "the profit is35.20750417923688\n",
      "2607\n",
      "2607\n",
      "2607\n",
      "2607\n",
      "2586\n",
      "2586\n",
      "2607\n",
      "2607\n",
      "2607\n",
      "2607\n",
      "the profit is-98.21056011040167\n",
      "2607\n",
      "2607\n",
      "2607\n",
      "2607\n",
      "2594\n",
      "2594\n",
      "2607\n",
      "2607\n",
      "2607\n",
      "2607\n",
      "the profit is177.90137377679557\n",
      "2607\n",
      "2607\n",
      "2607\n",
      "2607\n",
      "2581\n",
      "2581\n",
      "2607\n",
      "2607\n",
      "2607\n",
      "2607\n",
      "the profit is184.0753347001642\n",
      "2607\n",
      "2607\n",
      "2607\n",
      "2607\n",
      "2560\n",
      "2560\n",
      "2607\n",
      "2607\n",
      "2607\n",
      "2607\n",
      "the profit is235.27174579806046\n",
      "2607\n",
      "2607\n",
      "2607\n",
      "2607\n",
      "2580\n",
      "2580\n",
      "2607\n",
      "2607\n",
      "2607\n",
      "2607\n",
      "the profit is279.6449215524354\n",
      "2607\n",
      "2607\n",
      "2607\n",
      "2607\n",
      "2579\n",
      "2579\n",
      "2607\n",
      "2607\n",
      "2607\n",
      "2607\n",
      "the profit is19.033040747877266\n",
      "2607\n",
      "2607\n",
      "2607\n",
      "2607\n",
      "2581\n",
      "2581\n",
      "2607\n",
      "2607\n",
      "2607\n",
      "2607\n",
      "the profit is30.566710608478985\n",
      "2607\n",
      "2607\n",
      "2607\n",
      "2607\n",
      "2579\n",
      "2579\n",
      "2607\n",
      "2607\n",
      "2607\n",
      "2607\n",
      "the profit is11.239385839497487\n",
      "2607\n",
      "2607\n",
      "2607\n",
      "2607\n",
      "2575\n",
      "2575\n",
      "2607\n",
      "2607\n",
      "2607\n",
      "2607\n",
      "the profit is52.937364894077774\n",
      "2607\n",
      "2607\n",
      "2607\n",
      "2607\n",
      "2578\n",
      "2578\n",
      "2607\n",
      "2607\n",
      "2607\n",
      "2607\n",
      "the profit is7.482953708600363\n",
      "2607\n",
      "2607\n",
      "2607\n",
      "2607\n",
      "2586\n",
      "2586\n",
      "2607\n",
      "2607\n",
      "2607\n",
      "2607\n",
      "the profit is256.62927298564\n",
      "2607\n",
      "2607\n",
      "2607\n",
      "2607\n",
      "2596\n",
      "2596\n",
      "2607\n",
      "2607\n",
      "2607\n",
      "2607\n",
      "the profit is12.596551763234245\n",
      "2607\n",
      "2607\n",
      "2607\n",
      "2607\n",
      "2579\n",
      "2579\n",
      "2607\n",
      "2607\n",
      "2607\n",
      "2607\n",
      "the profit is98.63023952095868\n"
     ]
    }
   ],
   "source": [
    "for i in range(1,29):\n",
    "    algo_call(i,15)"
   ]
  },
  {
   "cell_type": "code",
   "execution_count": null,
   "id": "b31a627d",
   "metadata": {},
   "outputs": [],
   "source": []
  }
 ],
 "metadata": {
  "kernelspec": {
   "display_name": "Python 3.8.6 64-bit ('3.8.6')",
   "language": "python",
   "name": "python3"
  },
  "language_info": {
   "codemirror_mode": {
    "name": "ipython",
    "version": 3
   },
   "file_extension": ".py",
   "mimetype": "text/x-python",
   "name": "python",
   "nbconvert_exporter": "python",
   "pygments_lexer": "ipython3",
   "version": "3.8.6"
  },
  "toc": {
   "base_numbering": 1,
   "nav_menu": {},
   "number_sections": true,
   "sideBar": true,
   "skip_h1_title": false,
   "title_cell": "Table of Contents",
   "title_sidebar": "Contents",
   "toc_cell": false,
   "toc_position": {},
   "toc_section_display": true,
   "toc_window_display": false
  },
  "vscode": {
   "interpreter": {
    "hash": "0819bd016a06d71107f2a9a89c3deb51eef112337a836cb0866fc6910a0a609c"
   }
  }
 },
 "nbformat": 4,
 "nbformat_minor": 5
}
