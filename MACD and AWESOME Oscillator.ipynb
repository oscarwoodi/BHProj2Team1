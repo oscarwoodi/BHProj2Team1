{
 "cells": [
  {
   "cell_type": "code",
   "execution_count": 1,
   "id": "3bb38171",
   "metadata": {
    "ExecuteTime": {
     "end_time": "2022-08-24T11:29:34.822752Z",
     "start_time": "2022-08-24T11:29:32.924215Z"
    }
   },
   "outputs": [],
   "source": [
    "# imports \n",
    "import pandas as pd\n",
    "import numpy as np \n",
    "import matplotlib.pyplot as plt\n",
    "from mpl_toolkits import mplot3d\n",
    "plt.style.use('fivethirtyeight')\n",
    "import math\n",
    "import seaborn as sns\n",
    "from datetime import datetime"
   ]
  },
  {
   "cell_type": "code",
   "execution_count": 3,
   "id": "9cd1d35c",
   "metadata": {
    "ExecuteTime": {
     "end_time": "2022-08-24T11:29:43.327594Z",
     "start_time": "2022-08-24T11:29:42.296347Z"
    }
   },
   "outputs": [],
   "source": [
    "df = pd.read_excel('Data/Time Series Data.xlsx', index_col = 'Day')"
   ]
  },
  {
   "cell_type": "code",
   "execution_count": 9,
   "id": "e0eb142e",
   "metadata": {
    "ExecuteTime": {
     "end_time": "2022-08-24T12:24:05.347921Z",
     "start_time": "2022-08-24T12:23:42.127373Z"
    }
   },
   "outputs": [
    {
     "name": "stdout",
     "output_type": "stream",
     "text": [
      "ma1:10\n",
      "ma2:21\n",
      "start date in format yyyy-mm-dd:\n",
      "end date in format yyyy-mm-dd:\n",
      "ticker:\n",
      "slicing:\n"
     ]
    },
    {
     "ename": "ValueError",
     "evalue": "invalid literal for int() with base 10: ''",
     "output_type": "error",
     "traceback": [
      "\u001b[0;31m---------------------------------------------------------------------------\u001b[0m",
      "\u001b[0;31mValueError\u001b[0m                                Traceback (most recent call last)",
      "\u001b[0;32m/var/folders/p2/6ddwj2812811pbqjm8t6brv80000gn/T/ipykernel_43902/3956886477.py\u001b[0m in \u001b[0;36m<module>\u001b[0;34m\u001b[0m\n\u001b[1;32m    121\u001b[0m \u001b[0;34m\u001b[0m\u001b[0m\n\u001b[1;32m    122\u001b[0m \u001b[0;32mif\u001b[0m \u001b[0m__name__\u001b[0m \u001b[0;34m==\u001b[0m \u001b[0;34m'__main__'\u001b[0m\u001b[0;34m:\u001b[0m\u001b[0;34m\u001b[0m\u001b[0;34m\u001b[0m\u001b[0m\n\u001b[0;32m--> 123\u001b[0;31m     \u001b[0mmain\u001b[0m\u001b[0;34m(\u001b[0m\u001b[0;34m)\u001b[0m\u001b[0;34m\u001b[0m\u001b[0;34m\u001b[0m\u001b[0m\n\u001b[0m",
      "\u001b[0;32m/var/folders/p2/6ddwj2812811pbqjm8t6brv80000gn/T/ipykernel_43902/3956886477.py\u001b[0m in \u001b[0;36mmain\u001b[0;34m()\u001b[0m\n\u001b[1;32m    105\u001b[0m     \u001b[0;31m#if the dataset is too large, backtesting plot would look messy\u001b[0m\u001b[0;34m\u001b[0m\u001b[0;34m\u001b[0m\u001b[0;34m\u001b[0m\u001b[0m\n\u001b[1;32m    106\u001b[0m     \u001b[0;31m#you get too many markers cluster together\u001b[0m\u001b[0;34m\u001b[0m\u001b[0;34m\u001b[0m\u001b[0;34m\u001b[0m\u001b[0m\n\u001b[0;32m--> 107\u001b[0;31m     \u001b[0mslicer\u001b[0m\u001b[0;34m=\u001b[0m\u001b[0mint\u001b[0m\u001b[0;34m(\u001b[0m\u001b[0minput\u001b[0m\u001b[0;34m(\u001b[0m\u001b[0;34m'slicing:'\u001b[0m\u001b[0;34m)\u001b[0m\u001b[0;34m)\u001b[0m\u001b[0;34m\u001b[0m\u001b[0;34m\u001b[0m\u001b[0m\n\u001b[0m\u001b[1;32m    108\u001b[0m \u001b[0;34m\u001b[0m\u001b[0m\n\u001b[1;32m    109\u001b[0m     \u001b[0;31m#downloading data\u001b[0m\u001b[0;34m\u001b[0m\u001b[0;34m\u001b[0m\u001b[0;34m\u001b[0m\u001b[0m\n",
      "\u001b[0;31mValueError\u001b[0m: invalid literal for int() with base 10: ''"
     ]
    }
   ],
   "source": [
    "def macd(signals):\n",
    "    \n",
    "    \n",
    "    signals['ma1']=signals['Close'].rolling(window=ma1,min_periods=1,center=False).mean()\n",
    "    signals['ma2']=signals['Close'].rolling(window=ma2,min_periods=1,center=False).mean()\n",
    "    \n",
    "    return signals\n",
    "\n",
    "\n",
    "\n",
    "# In[3]:\n",
    "#signal generation\n",
    "#when the short moving average is larger than long moving average, we long and hold\n",
    "#when the short moving average is smaller than long moving average, we clear positions\n",
    "#the logic behind this is that the momentum has more impact on short moving average\n",
    "#we can subtract short moving average from long moving average\n",
    "#the difference between is sometimes positive, it sometimes becomes negative\n",
    "#thats why it is named as moving average converge/diverge oscillator\n",
    "\n",
    "def signal_generation(df,method):\n",
    "    \n",
    "    signals=method(df)\n",
    "    signals['positions']=0\n",
    "\n",
    "    #positions becomes and stays one once the short moving average is above long moving average\n",
    "    signals['positions'][ma1:]=np.where(signals['ma1'][ma1:]>=signals['ma2'][ma1:],1,0)\n",
    "\n",
    "    #as positions only imply the holding\n",
    "    #we take the difference to generate real trade signal\n",
    "    signals['signals']=signals['positions'].diff()\n",
    "\n",
    "    #oscillator is the difference between two moving average\n",
    "    #when it is positive, we long, vice versa\n",
    "    signals['oscillator']=signals['ma1']-signals['ma2']\n",
    "\n",
    "    return signals\n",
    "\n",
    "\n",
    "\n",
    "# In[4]:\n",
    "\n",
    "#plotting the backtesting result\n",
    "def plot(new, ticker):\n",
    "    \n",
    "    #the first plot is the actual close price with long/short positions\n",
    "    fig=plt.figure()\n",
    "    ax=fig.add_subplot(111)\n",
    "    \n",
    "    new['Close'].plot(label=ticker)\n",
    "    ax.plot(new.loc[new['signals']==1].index,new['Close'][new['signals']==1],label='LONG',lw=0,marker='^',c='g')\n",
    "    ax.plot(new.loc[new['signals']==-1].index,new['Close'][new['signals']==-1],label='SHORT',lw=0,marker='v',c='r')\n",
    "\n",
    "    plt.legend(loc='best')\n",
    "    plt.grid(True)\n",
    "    plt.title('Positions')\n",
    "    \n",
    "    plt.show()\n",
    "    \n",
    "    #the second plot is long/short moving average with oscillator\n",
    "    #note that i use bar chart for oscillator\n",
    "    fig=plt.figure()\n",
    "    cx=fig.add_subplot(211)\n",
    "\n",
    "    new['oscillator'].plot(kind='bar',color='r')\n",
    "\n",
    "    plt.legend(loc='best')\n",
    "    plt.grid(True)\n",
    "    plt.xticks([])\n",
    "    plt.xlabel('')\n",
    "    plt.title('MACD Oscillator')\n",
    "\n",
    "    bx=fig.add_subplot(212)\n",
    "\n",
    "    new['ma1'].plot(label='ma1')\n",
    "    new['ma2'].plot(label='ma2',linestyle=':')\n",
    "    \n",
    "    plt.legend(loc='best')\n",
    "    plt.grid(True)\n",
    "    plt.show()\n",
    "\n",
    "    \n",
    "# In[5]:\n",
    "\n",
    "def main():\n",
    "    \n",
    "    #input the long moving average and short moving average period\n",
    "    #for the classic MACD, it is 12 and 26\n",
    "    #once a upon a time you got six trading days in a week\n",
    "    #so it is two week moving average versus one month moving average\n",
    "    #for now, the ideal choice would be 10 and 21\n",
    "    \n",
    "    global ma1,ma2,stdate,eddate,ticker,slicer\n",
    "\n",
    "    #macd is easy and effective\n",
    "    #there is just one issue\n",
    "    #entry signal is always late\n",
    "    #watch out for downward EMA spirals!\n",
    "    ma1=int(input('ma1:'))\n",
    "    ma2=int(input('ma2:'))\n",
    "    stdate=input('start date in format yyyy-mm-dd:')\n",
    "    eddate=input('end date in format yyyy-mm-dd:')\n",
    "    ticker=input('ticker:')\n",
    "\n",
    "    #slicing the downloaded dataset\n",
    "    #if the dataset is too large, backtesting plot would look messy\n",
    "    #you get too many markers cluster together\n",
    "    slicer=int(input('slicing:'))\n",
    "\n",
    "    #downloading data\n",
    "    df_init=pd.read_excel('Data/Time Series Data.xlsx', index_col = 'Day')\n",
    "    df = df_init['Series 1']\n",
    "    \n",
    "    new=signal_generation(df,macd)\n",
    "    new=new[slicer:]\n",
    "    plot(new, ticker)\n",
    "\n",
    "\n",
    "#how to calculate stats could be found from my other code called Heikin-Ashi\n",
    "# https://github.com/je-suis-tm/quant-trading/blob/master/heikin%20ashi%20backtest.py\n",
    "\n",
    "\n",
    "if __name__ == '__main__':\n",
    "    main()"
   ]
  },
  {
   "cell_type": "code",
   "execution_count": null,
   "id": "8ca76afd",
   "metadata": {},
   "outputs": [],
   "source": []
  }
 ],
 "metadata": {
  "kernelspec": {
   "display_name": "Python 3 (ipykernel)",
   "language": "python",
   "name": "python3"
  },
  "language_info": {
   "codemirror_mode": {
    "name": "ipython",
    "version": 3
   },
   "file_extension": ".py",
   "mimetype": "text/x-python",
   "name": "python",
   "nbconvert_exporter": "python",
   "pygments_lexer": "ipython3",
   "version": "3.8.6"
  },
  "toc": {
   "base_numbering": 1,
   "nav_menu": {},
   "number_sections": true,
   "sideBar": true,
   "skip_h1_title": false,
   "title_cell": "Table of Contents",
   "title_sidebar": "Contents",
   "toc_cell": false,
   "toc_position": {},
   "toc_section_display": true,
   "toc_window_display": false
  }
 },
 "nbformat": 4,
 "nbformat_minor": 5
}
